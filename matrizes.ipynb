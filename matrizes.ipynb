{
 "cells": [
  {
   "cell_type": "markdown",
   "metadata": {},
   "source": [
    "# Matrizes\n",
    "\n",
    "* Matriz um agrupamento retangular de números.\n",
    "* Os números neste agrupamento são chamados de **entradas** ou **elementos** da matriz.\n",
    "$\\begin{eqnarray}\n",
    "   \\left[ \n",
    "           \\begin{array}{cccc}\n",
    "            a_{11} & a_{12} & \\cdots & a_{1N} \\\\\n",
    "            a_{21} & a_{22} & \\cdots & a_{2N} \\\\\n",
    "            \\vdots       & \\vdots       & \\vdots & \\vdots      \\\\\n",
    "            a_{M1} & a_{M2} & \\cdots & a_{MN} \n",
    "           \\end{array}\n",
    "       \\right] \n",
    "\\end{eqnarray}\n",
    "$\n",
    "\n",
    "Exemplos:\n",
    "$\\begin{eqnarray}\n",
    " A =  \\left[ \n",
    "           \\begin{array}{ccc}\n",
    "            2 & 3  &  -5 \\\\\n",
    "            4 & 20 & 9 \\\\\n",
    "           -3 & 11 & -8 \n",
    "           \\end{array}\n",
    "       \\right] \\  \\  \\ e\\ \\ \n",
    "   B = \\left[ \n",
    "           \\begin{array}{ccc c}\n",
    "            6 & 3  & 25 & 2 \\\\\n",
    "           \\end{array}\n",
    "       \\right] \\nonumber\n",
    "\\end{eqnarray}\n",
    "$"
   ]
  },
  {
   "cell_type": "code",
   "execution_count": null,
   "metadata": {},
   "outputs": [],
   "source": []
  }
 ],
 "metadata": {
  "kernelspec": {
   "display_name": "Python 3",
   "language": "python",
   "name": "python3"
  },
  "language_info": {
   "codemirror_mode": {
    "name": "ipython",
    "version": 3
   },
   "file_extension": ".py",
   "mimetype": "text/x-python",
   "name": "python",
   "nbconvert_exporter": "python",
   "pygments_lexer": "ipython3",
   "version": "3.7.4"
  }
 },
 "nbformat": 4,
 "nbformat_minor": 2
}
